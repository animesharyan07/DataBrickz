{
 "cells": [
  {
   "cell_type": "code",
   "execution_count": 0,
   "metadata": {
    "application/vnd.databricks.v1+cell": {
     "cellMetadata": {
      "byteLimit": 10485760,
      "rowLimit": 1000
     },
     "inputWidgets": {},
     "nuid": "8ebde4d6-85fd-4681-8271-cb27388bd0ea",
     "showTitle": false,
     "tableResultSettingsMap": {},
     "title": ""
    }
   },
   "outputs": [],
   "source": [
    "CREATE TABLE ETRM_TRADE(\n",
    "  TradeId INT Primary key,\n",
    "\n",
    "  TradeDate DATE NOT NULL,\n",
    "  Commodity varchar(50),\n",
    "  Quantity INT,\n",
    "  Price DECIMAL,\n",
    "  TradeType Varchar(50)\n",
    ");\n",
    "\n",
    "desc ETRM_TRADE;\n",
    "\n",
    "INSERT INTO ETRM_TRADE (TradeId, TradeDate, Commodity, Quantity, Price, TradeType)\n",
    "VALUES\n",
    "(1, '2025-10-20', 'Natural Gas', 1000, 4.50, 'Buy'),\n",
    "(2, '2025-10-20', 'Electricity', 50, 55.00, 'Sell'),\n",
    "(3, '2025-10-19', 'Crude Oil', 200, 80.25, 'Buy'),\n",
    "(4, '2025-10-18', 'Coal', 500, 60.00, 'Sell');\n",
    "\n",
    "\n",
    "select * from ETRM_TRADE;\n",
    "\n",
    "CREATE TABLE DETLA_ETRM_TRADE\n",
    "USING DELTA\n",
    "AS\n",
    "SELECT * FROM ETRM_TRADE;\n",
    "\n",
    "select * from workspace.default.detla_etrm_trade;"
   ]
  }
 ],
 "metadata": {
  "application/vnd.databricks.v1+notebook": {
   "computePreferences": null,
   "dashboards": [],
   "environmentMetadata": null,
   "inputWidgetPreferences": null,
   "language": "sql",
   "notebookMetadata": {
    "pythonIndentUnit": 4,
    "sqlQueryOptions": {
     "applyAutoLimit": true,
     "catalog": "workspace",
     "schema": "default"
    }
   },
   "notebookName": "DELTA_TABLE.dbquery.ipynb",
   "widgets": {}
  },
  "language_info": {
   "name": "sql"
  }
 },
 "nbformat": 4,
 "nbformat_minor": 0
}
